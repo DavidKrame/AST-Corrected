{
 "cells": [
  {
   "cell_type": "code",
   "execution_count": 2,
   "metadata": {},
   "outputs": [],
   "source": [
    "import os\n",
    "import pandas as pd"
   ]
  },
  {
   "cell_type": "code",
   "execution_count": null,
   "metadata": {},
   "outputs": [],
   "source": [
    "data_csv = pd.read_csv(\"complete_data_elect.csv\",sep=\";\", parse_dates=True, decimal=',')\n",
    "data_csv.tail()"
   ]
  },
  {
   "attachments": {},
   "cell_type": "markdown",
   "metadata": {},
   "source": [
    "## Visualization of the last 5 consumptions of 370 customers"
   ]
  },
  {
   "cell_type": "code",
   "execution_count": 7,
   "metadata": {},
   "outputs": [
    {
     "data": {
      "text/plain": [
       "Index(['Unnamed: 0', 'MT_001', 'MT_002', 'MT_003', 'MT_004', 'MT_005',\n",
       "       'MT_006', 'MT_007', 'MT_008', 'MT_009',\n",
       "       ...\n",
       "       'MT_361', 'MT_362', 'MT_363', 'MT_364', 'MT_365', 'MT_366', 'MT_367',\n",
       "       'MT_368', 'MT_369', 'MT_370'],\n",
       "      dtype='object', length=371)"
      ]
     },
     "execution_count": 7,
     "metadata": {},
     "output_type": "execute_result"
    }
   ],
   "source": [
    "data_csv.columns"
   ]
  },
  {
   "cell_type": "code",
   "execution_count": 8,
   "metadata": {},
   "outputs": [],
   "source": [
    "import matplotlib.pyplot as plt\n",
    "import seaborn as sns"
   ]
  },
  {
   "cell_type": "code",
   "execution_count": 15,
   "metadata": {},
   "outputs": [],
   "source": [
    "data_csv[[\"MT_001\"]] = data_csv[[\"MT_001\"]].astype(\"float\").dtypes"
   ]
  },
  {
   "cell_type": "code",
   "execution_count": 22,
   "metadata": {},
   "outputs": [
    {
     "data": {
      "text/plain": [
       "Unnamed: 0     object\n",
       "MT_001         object\n",
       "MT_002        float64\n",
       "MT_003        float64\n",
       "MT_004        float64\n",
       "               ...   \n",
       "MT_366        float64\n",
       "MT_367        float64\n",
       "MT_368        float64\n",
       "MT_369        float64\n",
       "MT_370        float64\n",
       "Length: 371, dtype: object"
      ]
     },
     "execution_count": 22,
     "metadata": {},
     "output_type": "execute_result"
    }
   ],
   "source": [
    "new_data = pd.DataFrame({})\n",
    "for column in data_csv.columns :\n",
    "    try :\n",
    "        new_data = pd.concat([new_data, data_csv[column].astype(\"float64\")], join = 'outer', axis = 1)\n",
    "    except :\n",
    "        new_data = pd.concat([new_data, data_csv[column]], join = 'outer', axis = 1)\n",
    "new_data.dtypes"
   ]
  },
  {
   "cell_type": "code",
   "execution_count": 23,
   "metadata": {},
   "outputs": [
    {
     "data": {
      "text/html": [
       "<div>\n",
       "<style scoped>\n",
       "    .dataframe tbody tr th:only-of-type {\n",
       "        vertical-align: middle;\n",
       "    }\n",
       "\n",
       "    .dataframe tbody tr th {\n",
       "        vertical-align: top;\n",
       "    }\n",
       "\n",
       "    .dataframe thead th {\n",
       "        text-align: right;\n",
       "    }\n",
       "</style>\n",
       "<table border=\"1\" class=\"dataframe\">\n",
       "  <thead>\n",
       "    <tr style=\"text-align: right;\">\n",
       "      <th></th>\n",
       "      <th>Unnamed: 0</th>\n",
       "      <th>MT_001</th>\n",
       "      <th>MT_002</th>\n",
       "      <th>MT_003</th>\n",
       "      <th>MT_004</th>\n",
       "      <th>MT_005</th>\n",
       "      <th>MT_006</th>\n",
       "      <th>MT_007</th>\n",
       "      <th>MT_008</th>\n",
       "      <th>MT_009</th>\n",
       "      <th>...</th>\n",
       "      <th>MT_361</th>\n",
       "      <th>MT_362</th>\n",
       "      <th>MT_363</th>\n",
       "      <th>MT_364</th>\n",
       "      <th>MT_365</th>\n",
       "      <th>MT_366</th>\n",
       "      <th>MT_367</th>\n",
       "      <th>MT_368</th>\n",
       "      <th>MT_369</th>\n",
       "      <th>MT_370</th>\n",
       "    </tr>\n",
       "  </thead>\n",
       "  <tbody>\n",
       "    <tr>\n",
       "      <th>140251</th>\n",
       "      <td>2014-12-31 23:00:00</td>\n",
       "      <td>float64</td>\n",
       "      <td>22.048364</td>\n",
       "      <td>1.737619</td>\n",
       "      <td>150.406504</td>\n",
       "      <td>85.365854</td>\n",
       "      <td>303.571429</td>\n",
       "      <td>11.305822</td>\n",
       "      <td>282.828283</td>\n",
       "      <td>68.181818</td>\n",
       "      <td>...</td>\n",
       "      <td>276.945039</td>\n",
       "      <td>28200.0</td>\n",
       "      <td>1616.033755</td>\n",
       "      <td>1363.636364</td>\n",
       "      <td>29.986962</td>\n",
       "      <td>5.851375</td>\n",
       "      <td>697.102722</td>\n",
       "      <td>176.961603</td>\n",
       "      <td>651.026393</td>\n",
       "      <td>7621.621622</td>\n",
       "    </tr>\n",
       "    <tr>\n",
       "      <th>140252</th>\n",
       "      <td>2014-12-31 23:15:00</td>\n",
       "      <td>float64</td>\n",
       "      <td>21.337127</td>\n",
       "      <td>1.737619</td>\n",
       "      <td>166.666667</td>\n",
       "      <td>81.707317</td>\n",
       "      <td>324.404762</td>\n",
       "      <td>11.305822</td>\n",
       "      <td>252.525253</td>\n",
       "      <td>64.685315</td>\n",
       "      <td>...</td>\n",
       "      <td>279.800143</td>\n",
       "      <td>28300.0</td>\n",
       "      <td>1569.620253</td>\n",
       "      <td>1340.909091</td>\n",
       "      <td>29.986962</td>\n",
       "      <td>9.947338</td>\n",
       "      <td>671.641791</td>\n",
       "      <td>168.614357</td>\n",
       "      <td>669.354839</td>\n",
       "      <td>6702.702703</td>\n",
       "    </tr>\n",
       "    <tr>\n",
       "      <th>140253</th>\n",
       "      <td>2014-12-31 23:30:00</td>\n",
       "      <td>float64</td>\n",
       "      <td>20.625889</td>\n",
       "      <td>1.737619</td>\n",
       "      <td>162.601626</td>\n",
       "      <td>82.926829</td>\n",
       "      <td>318.452381</td>\n",
       "      <td>10.175240</td>\n",
       "      <td>242.424242</td>\n",
       "      <td>61.188811</td>\n",
       "      <td>...</td>\n",
       "      <td>284.796574</td>\n",
       "      <td>27800.0</td>\n",
       "      <td>1556.962025</td>\n",
       "      <td>1318.181818</td>\n",
       "      <td>27.379400</td>\n",
       "      <td>9.362200</td>\n",
       "      <td>670.763828</td>\n",
       "      <td>153.589316</td>\n",
       "      <td>670.087977</td>\n",
       "      <td>6864.864865</td>\n",
       "    </tr>\n",
       "    <tr>\n",
       "      <th>140254</th>\n",
       "      <td>2014-12-31 23:45:00</td>\n",
       "      <td>float64</td>\n",
       "      <td>21.337127</td>\n",
       "      <td>1.737619</td>\n",
       "      <td>166.666667</td>\n",
       "      <td>85.365854</td>\n",
       "      <td>285.714286</td>\n",
       "      <td>10.175240</td>\n",
       "      <td>225.589226</td>\n",
       "      <td>64.685315</td>\n",
       "      <td>...</td>\n",
       "      <td>246.252677</td>\n",
       "      <td>28000.0</td>\n",
       "      <td>1443.037975</td>\n",
       "      <td>909.090909</td>\n",
       "      <td>26.075619</td>\n",
       "      <td>4.095963</td>\n",
       "      <td>664.618086</td>\n",
       "      <td>146.911519</td>\n",
       "      <td>646.627566</td>\n",
       "      <td>6540.540541</td>\n",
       "    </tr>\n",
       "    <tr>\n",
       "      <th>140255</th>\n",
       "      <td>2015-01-01 00:00:00</td>\n",
       "      <td>float64</td>\n",
       "      <td>19.914651</td>\n",
       "      <td>1.737619</td>\n",
       "      <td>178.861789</td>\n",
       "      <td>84.146341</td>\n",
       "      <td>279.761905</td>\n",
       "      <td>10.175240</td>\n",
       "      <td>249.158249</td>\n",
       "      <td>62.937063</td>\n",
       "      <td>...</td>\n",
       "      <td>188.436831</td>\n",
       "      <td>27800.0</td>\n",
       "      <td>1409.282700</td>\n",
       "      <td>954.545455</td>\n",
       "      <td>27.379400</td>\n",
       "      <td>4.095963</td>\n",
       "      <td>628.621598</td>\n",
       "      <td>131.886477</td>\n",
       "      <td>673.020528</td>\n",
       "      <td>7135.135135</td>\n",
       "    </tr>\n",
       "  </tbody>\n",
       "</table>\n",
       "<p>5 rows × 371 columns</p>\n",
       "</div>"
      ],
      "text/plain": [
       "                 Unnamed: 0   MT_001     MT_002    MT_003      MT_004  \\\n",
       "140251  2014-12-31 23:00:00  float64  22.048364  1.737619  150.406504   \n",
       "140252  2014-12-31 23:15:00  float64  21.337127  1.737619  166.666667   \n",
       "140253  2014-12-31 23:30:00  float64  20.625889  1.737619  162.601626   \n",
       "140254  2014-12-31 23:45:00  float64  21.337127  1.737619  166.666667   \n",
       "140255  2015-01-01 00:00:00  float64  19.914651  1.737619  178.861789   \n",
       "\n",
       "           MT_005      MT_006     MT_007      MT_008     MT_009  ...  \\\n",
       "140251  85.365854  303.571429  11.305822  282.828283  68.181818  ...   \n",
       "140252  81.707317  324.404762  11.305822  252.525253  64.685315  ...   \n",
       "140253  82.926829  318.452381  10.175240  242.424242  61.188811  ...   \n",
       "140254  85.365854  285.714286  10.175240  225.589226  64.685315  ...   \n",
       "140255  84.146341  279.761905  10.175240  249.158249  62.937063  ...   \n",
       "\n",
       "            MT_361   MT_362       MT_363       MT_364     MT_365    MT_366  \\\n",
       "140251  276.945039  28200.0  1616.033755  1363.636364  29.986962  5.851375   \n",
       "140252  279.800143  28300.0  1569.620253  1340.909091  29.986962  9.947338   \n",
       "140253  284.796574  27800.0  1556.962025  1318.181818  27.379400  9.362200   \n",
       "140254  246.252677  28000.0  1443.037975   909.090909  26.075619  4.095963   \n",
       "140255  188.436831  27800.0  1409.282700   954.545455  27.379400  4.095963   \n",
       "\n",
       "            MT_367      MT_368      MT_369       MT_370  \n",
       "140251  697.102722  176.961603  651.026393  7621.621622  \n",
       "140252  671.641791  168.614357  669.354839  6702.702703  \n",
       "140253  670.763828  153.589316  670.087977  6864.864865  \n",
       "140254  664.618086  146.911519  646.627566  6540.540541  \n",
       "140255  628.621598  131.886477  673.020528  7135.135135  \n",
       "\n",
       "[5 rows x 371 columns]"
      ]
     },
     "execution_count": 23,
     "metadata": {},
     "output_type": "execute_result"
    }
   ],
   "source": [
    "new_data.tail()"
   ]
  },
  {
   "cell_type": "code",
   "execution_count": 28,
   "metadata": {},
   "outputs": [
    {
     "data": {
      "text/plain": [
       "<AxesSubplot:xlabel='Unnamed: 0', ylabel='MT_002'>"
      ]
     },
     "execution_count": 28,
     "metadata": {},
     "output_type": "execute_result"
    },
    {
     "data": {
      "image/png": "[encoded data removed]",
      "text/plain": [
       "<Figure size 432x288 with 1 Axes>"
      ]
     },
     "metadata": {
      "needs_background": "light"
     },
     "output_type": "display_data"
    }
   ],
   "source": [
    "sns.lineplot(data=(new_data.tail(1000)), x=\"Unnamed: 0\", y=\"MT_002\")"
   ]
  },
  {
   "cell_type": "code",
   "execution_count": 29,
   "metadata": {},
   "outputs": [
    {
     "data": {
      "text/plain": [
       "<AxesSubplot:xlabel='Unnamed: 0', ylabel='MT_302'>"
      ]
     },
     "execution_count": 29,
     "metadata": {},
     "output_type": "execute_result"
    },
    {
     "data": {
      "image/png": "[encoded data removed]",
      "text/plain": [
       "<Figure size 432x288 with 1 Axes>"
      ]
     },
     "metadata": {
      "needs_background": "light"
     },
     "output_type": "display_data"
    }
   ],
   "source": [
    "sns.lineplot(data=(new_data.tail(1000)), x=\"Unnamed: 0\", y=\"MT_302\")"
   ]
  },
  {
   "cell_type": "code",
   "execution_count": null,
   "metadata": {},
   "outputs": [],
   "source": []
  }
 ],
 "metadata": {
  "kernelspec": {
   "display_name": "Python 3",
   "language": "python",
   "name": "python3"
  },
  "language_info": {
   "codemirror_mode": {
    "name": "ipython",
    "version": 3
   },
   "file_extension": ".py",
   "mimetype": "text/x-python",
   "name": "python",
   "nbconvert_exporter": "python",
   "pygments_lexer": "ipython3",
   "version": "3.7.6rc1"
  },
  "orig_nbformat": 4,
  "vscode": {
   "interpreter": {
    "hash": "5e55d3939660b39ac4e071695cd3c881e06274dbeeff6ea1912d5d16371d8319"
   }
  }
 },
 "nbformat": 4,
 "nbformat_minor": 2
}
